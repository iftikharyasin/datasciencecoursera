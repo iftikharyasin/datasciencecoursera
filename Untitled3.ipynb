{
 "cells": [
  {
   "cell_type": "code",
   "execution_count": 1,
   "id": "a2b0268a",
   "metadata": {},
   "outputs": [
    {
     "ename": "SyntaxError",
     "evalue": "invalid syntax (2733139351.py, line 1)",
     "output_type": "error",
     "traceback": [
      "\u001b[1;36m  Cell \u001b[1;32mIn[1], line 1\u001b[1;36m\u001b[0m\n\u001b[1;33m    **Name:** Iftikhar Yasin\u001b[0m\n\u001b[1;37m    ^\u001b[0m\n\u001b[1;31mSyntaxError\u001b[0m\u001b[1;31m:\u001b[0m invalid syntax\n"
     ]
    }
   ],
   "source": [
    "**Name:** Iftikhar Yasin  \n",
    "**Date:** June 2024  "
   ]
  },
  {
   "cell_type": "code",
   "execution_count": 2,
   "id": "84c5930c",
   "metadata": {},
   "outputs": [
    {
     "ename": "SyntaxError",
     "evalue": "invalid syntax (2733139351.py, line 1)",
     "output_type": "error",
     "traceback": [
      "\u001b[1;36m  Cell \u001b[1;32mIn[2], line 1\u001b[1;36m\u001b[0m\n\u001b[1;33m    **Name:** Iftikhar Yasin\u001b[0m\n\u001b[1;37m    ^\u001b[0m\n\u001b[1;31mSyntaxError\u001b[0m\u001b[1;31m:\u001b[0m invalid syntax\n"
     ]
    }
   ],
   "source": [
    "**Name:** Iftikhar Yasin  \n",
    "**Date:** June 2024  "
   ]
  },
  {
   "cell_type": "code",
   "execution_count": null,
   "id": "29172605",
   "metadata": {},
   "outputs": [],
   "source": []
  },
  {
   "cell_type": "markdown",
   "id": "2311a78d",
   "metadata": {},
   "source": [
    "*Name:** Iftikhar Yasin  \n",
    "**Date:** June 2024"
   ]
  },
  {
   "cell_type": "markdown",
   "id": "f872ad04",
   "metadata": {},
   "source": [
    "## Introduction  \n",
    "This report analyzes trends from the 2023 Stack Overflow Developer Survey, focusing on programming languages, databases, and job market demands. Key insights will guide developers and hiring managers in technology adoption decisions."
   ]
  },
  {
   "cell_type": "markdown",
   "id": "b424b471",
   "metadata": {},
   "source": [
    "## Data Science Languages\n",
    "The most essential programming languages for data science include:\n",
    "\n",
    "1. Python\n",
    "2. R\n",
    "3. SQL\n",
    "4. Julia\n",
    "5. Scala"
   ]
  },
  {
   "cell_type": "markdown",
   "id": "5d98a309",
   "metadata": {},
   "source": [
    "## Data Science Libraries\n",
    "Essential Python libraries for data analysis and machine learning include:\n",
    "\n",
    "1. Pandas (Data manipulation)\n",
    "2. NumPy (Numerical computing)\n",
    "3. Matplotlib (Data visualization)\n",
    "4. Scikit-learn (Machine learning)\n",
    "5. TensorFlow/PyTorch (Deep learning)"
   ]
  },
  {
   "cell_type": "markdown",
   "id": "e6105ea2",
   "metadata": {},
   "source": [
    "## Data Science Tools\n",
    "\n",
    "| Tool Category       | Popular Options          | Primary Use Case               |\n",
    "|---------------------|--------------------------|--------------------------------|\n",
    "| Programming Languages | Python, R, SQL        | Data analysis & modeling       |\n",
    "| Visualization       | Matplotlib, Seaborn     | Creating charts/graphs         |\n",
    "| Machine Learning    | Scikit-learn, TensorFlow| Building predictive models     |\n",
    "| Big Data           | Spark, Hadoop          | Processing large datasets      |\n",
    "| IDEs              | Jupyter, VS Code       | Development environment        |"
   ]
  },
  {
   "cell_type": "markdown",
   "id": "a5bbcf66",
   "metadata": {},
   "source": [
    "## Arithmetic Expressions in Python\n",
    "Python supports basic arithmetic operations that are fundamental to data science. Below are examples of how to use:\n",
    "- Addition (`+`) \n",
    "- Subtraction (`-`)\n",
    "- Multiplication (`*`)\n",
    "- Division (`/`)\n",
    "- Modulus (`%`)"
   ]
  },
  {
   "cell_type": "markdown",
   "id": "847bf3a7",
   "metadata": {},
   "source": [
    "# Multiply two integers\n",
    "product = 8 * 3\n",
    "print(\"Multiplication result:\", product)\n",
    "\n",
    "# Add two integers\n",
    "sum_result = 5 + 7\n",
    "print(\"Addition result:\", sum_result)"
   ]
  },
  {
   "cell_type": "code",
   "execution_count": 3,
   "id": "7dc8a2ea",
   "metadata": {},
   "outputs": [
    {
     "name": "stdout",
     "output_type": "stream",
     "text": [
      "Multiplication result: 24\n",
      "Addition result: 12\n"
     ]
    }
   ],
   "source": [
    "# Multiply two integers\n",
    "product = 8 * 3\n",
    "print(\"Multiplication result:\", product)\n",
    "\n",
    "# Add two integers\n",
    "sum_result = 5 + 7\n",
    "print(\"Addition result:\", sum_result)"
   ]
  },
  {
   "cell_type": "markdown",
   "id": "9f6af5af",
   "metadata": {},
   "source": [
    "# Multiply two integers\n",
    "product = 8 * 3\n",
    "print(\"Multiplication result:\", product)\n",
    "\n",
    "# Add two integers\n",
    "sum_result = 5 + 7\n",
    "print(\"Addition result:\", sum_result)"
   ]
  },
  {
   "cell_type": "markdown",
   "id": "eaf543a3",
   "metadata": {},
   "source": [
    "# Convert hours to minutes\n",
    "hours = 2.5\n",
    "minutes = hours * 60\n",
    "print(f\"{hours} hours = {minutes} minutes\")"
   ]
  },
  {
   "cell_type": "code",
   "execution_count": 4,
   "id": "025de6e8",
   "metadata": {},
   "outputs": [
    {
     "name": "stdout",
     "output_type": "stream",
     "text": [
      "2.5 hours = 150.0 minutes\n"
     ]
    }
   ],
   "source": [
    "\n",
    "hours = 2.5\n",
    "minutes = hours * 60\n",
    "print(f\"{hours} hours = {minutes} minutes\")"
   ]
  },
  {
   "cell_type": "markdown",
   "id": "3a81760e",
   "metadata": {},
   "source": [
    "## Course Learning Objectives\n",
    "By completing this course, you will be able to:\n",
    "\n",
    "- Analyze Stack Overflow survey data using Python\n",
    "- Clean and preprocess real-world datasets\n",
    "- Create impactful data visualizations\n",
    "- Build interactive dashboards\n",
    "- Derive actionable insights from developer trends"
   ]
  },
  {
   "cell_type": "markdown",
   "id": "74fc824c",
   "metadata": {},
   "source": [
    "## Author Details\n",
    "**Name:** Iftikhar Yasin  \n",
    "**Email:** iftikharyasin@gmail.com  \n",
    "**Institution:** Coursera  \n",
    "**Date:** June 2025"
   ]
  },
  {
   "cell_type": "code",
   "execution_count": null,
   "id": "da3503c3",
   "metadata": {},
   "outputs": [],
   "source": []
  }
 ],
 "metadata": {
  "kernelspec": {
   "display_name": "Python 3 (ipykernel)",
   "language": "python",
   "name": "python3"
  },
  "language_info": {
   "codemirror_mode": {
    "name": "ipython",
    "version": 3
   },
   "file_extension": ".py",
   "mimetype": "text/x-python",
   "name": "python",
   "nbconvert_exporter": "python",
   "pygments_lexer": "ipython3",
   "version": "3.10.9"
  }
 },
 "nbformat": 4,
 "nbformat_minor": 5
}
